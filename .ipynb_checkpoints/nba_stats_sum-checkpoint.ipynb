{
 "cells": [
  {
   "cell_type": "markdown",
   "id": "28c77f2c-a99c-4022-81ad-21c833729e40",
   "metadata": {},
   "source": [
    "NBA Analysis\n",
    "Analyzes advanced statistics, creates a regression model to predict salary, and offers preliminary assessment of under-and-over-valued players based on actual salaries relative to the predicted salaries "
   ]
  },
  {
   "cell_type": "code",
   "execution_count": 1,
   "id": "37716df2-e579-4b98-aca1-2b9ceb11e344",
   "metadata": {},
   "outputs": [],
   "source": [
    "# Import libraries\n",
    "import requests\n",
    "from bs4 import BeautifulSoup\n",
    "import pandas as pd"
   ]
  },
  {
   "cell_type": "code",
   "execution_count": 3,
   "id": "56dea0e0-5567-4e12-be2b-001ff07ac815",
   "metadata": {},
   "outputs": [],
   "source": [
    "# load csv files\n",
    "# Note: Full script (available in Github repo) scrapes (i) advanced stats and (ii) salary data from Basketballreference.com \n",
    "# and mergers the data into 1 data table which is then saved as a csv file\n",
    "# This summary analysis uploads the csv file as the starting point \n",
    "\n",
    "df_merged = pd.read_csv('nba_advanced_stats_with_salary_2025.csv')"
   ]
  },
  {
   "cell_type": "code",
   "execution_count": 19,
   "id": "2040080d-d300-42bb-9d1f-69d23e381744",
   "metadata": {},
   "outputs": [
    {
     "name": "stdout",
     "output_type": "stream",
     "text": [
      "    Rk           Player   Age Team Pos     G    GS      MP   PER    TS%  ...  \\\n",
      "0  1.0    Mikal Bridges  28.0  NYK  SF  82.0  82.0  3036.0  14.0  0.585  ...   \n",
      "1  2.0        Josh Hart  29.0  NYK  SG  77.0  77.0  2897.0  16.5  0.611  ...   \n",
      "2  3.0  Anthony Edwards  23.0  MIN  SG  79.0  79.0  2871.0  20.1  0.595  ...   \n",
      "3  4.0     Devin Booker  28.0  PHO  SG  75.0  75.0  2795.0  19.3  0.589  ...   \n",
      "4  5.0     James Harden  35.0  LAC  PG  79.0  79.0  2789.0  20.0  0.582  ...   \n",
      "\n",
      "   OWS  DWS   WS  WS/48  OBPM  DBPM  BPM  VORP  Awards  Salary_2025_26  \n",
      "0  3.7  2.0  5.7  0.090   0.4  -0.9 -0.5   1.2     NaN      24900000.0  \n",
      "1  5.4  3.8  9.2  0.153   1.1   1.8  2.8   3.6     NaN      19472240.0  \n",
      "2  4.6  3.8  8.4  0.140   4.4   0.0  4.3   4.6     NaN      45550512.0  \n",
      "3  6.1  0.3  6.4  0.111   2.8  -2.4  0.4   1.7     NaN      53142264.0  \n",
      "4  4.0  4.3  8.3  0.143   3.5   0.8  4.3   4.4     NaN             NaN  \n",
      "\n",
      "[5 rows x 30 columns]\n",
      "\n",
      "Total Players: 736\n",
      "                MP         PER        VORP  Salary_2025_26\n",
      "count   735.000000  735.000000  735.000000    3.680000e+02\n",
      "mean    904.712925   13.189116    0.433469    1.597746e+07\n",
      "std     773.659072    6.161601    1.089044    1.519748e+07\n",
      "min       2.000000  -15.300000   -1.600000    7.068980e+05\n",
      "25%     226.500000   10.100000   -0.100000    3.848580e+06\n",
      "50%     691.000000   12.800000    0.100000    1.007590e+07\n",
      "75%    1469.500000   16.400000    0.600000    2.295698e+07\n",
      "max    3036.000000   53.600000    9.800000    5.960682e+07\n"
     ]
    }
   ],
   "source": [
    "# Explore data\n",
    "print(df_merged.head())\n",
    "print(f\"\\nTotal Players: {len(df_merged)}\")\n",
    "\n",
    "# historgram / scatter plot of MP, PER, Salary \n",
    "# Plot MP vs. PER \n",
    "# Create qualified table with MP restriction \n",
    "# look at PER vs. Salary \n",
    "# create a regression (simple)\n",
    "# create a regression (multiple variable) \n",
    "# look at biggest discrepancies "
   ]
  },
  {
   "cell_type": "code",
   "execution_count": 24,
   "id": "1b7ea214-11c4-4206-b1b0-328efdfe41d7",
   "metadata": {},
   "outputs": [
    {
     "name": "stdout",
     "output_type": "stream",
     "text": [
      "                  Player Team   PER  Salary_2025_26\n",
      "594           Alex Reese  OKC  53.6             NaN\n",
      "732     Alondes Williams  DET  53.4             NaN\n",
      "654  Patrick Baldwin Jr.  LAC  45.4             NaN\n",
      "484        Reece Beekman  GSW  42.3             NaN\n",
      "23          Nikola Jokić  DEN  32.0      55224526.0\n",
      "            Player Team   PER  Salary_2025_26\n",
      "52   Stephen Curry  GSW  21.5      59606817.0\n",
      "23    Nikola Jokić  DEN  32.0      55224526.0\n",
      "450    Joel Embiid  PHI  23.4      55224526.0\n",
      "50    Kevin Durant  PHO  21.2      54708609.0\n",
      "13    Jayson Tatum  BOS  21.7      54126450.0\n"
     ]
    }
   ],
   "source": [
    "# Top 10 PER and Top 10 Salary \n",
    "top_per = df_merged.nlargest(5, 'PER')[['Player', 'Team', 'PER','Salary_2025_26']]\n",
    "top_salary = df_merged.nlargest(5, 'Salary_2025_26')[['Player', 'Team', 'PER','Salary_2025_26']]\n",
    "\n",
    "print(top_per)\n",
    "print(top_salary)"
   ]
  },
  {
   "cell_type": "code",
   "execution_count": null,
   "id": "0bb77f60-6aa0-4884-9ccb-f4099d6cfad8",
   "metadata": {},
   "outputs": [],
   "source": [
    "# Filter table with minutes per game restriction \n"
   ]
  }
 ],
 "metadata": {
  "kernelspec": {
   "display_name": "Python 3 (ipykernel)",
   "language": "python",
   "name": "python3"
  },
  "language_info": {
   "codemirror_mode": {
    "name": "ipython",
    "version": 3
   },
   "file_extension": ".py",
   "mimetype": "text/x-python",
   "name": "python",
   "nbconvert_exporter": "python",
   "pygments_lexer": "ipython3",
   "version": "3.10.7"
  }
 },
 "nbformat": 4,
 "nbformat_minor": 5
}
