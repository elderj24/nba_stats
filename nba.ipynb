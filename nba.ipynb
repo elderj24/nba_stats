{
 "cells": [
  {
   "cell_type": "markdown",
   "id": "31fbec59",
   "metadata": {},
   "source": [
    "NBA player stats analysis\n",
    "Q: Which stats are most correlated with salaries? \n",
    "Q: Can we forecast salaries to help determine players that may be over- and/or under-valued?"
   ]
  },
  {
   "cell_type": "code",
   "execution_count": 1,
   "id": "58c6a6e9",
   "metadata": {},
   "outputs": [],
   "source": [
    "#1: import core packages\n",
    "import requests \n",
    "from bs4 import BeautifulSoup\n",
    "import pandas as pd\n",
    "import time \n",
    "import os"
   ]
  },
  {
   "cell_type": "code",
   "execution_count": 2,
   "id": "d23b56ac",
   "metadata": {},
   "outputs": [
    {
     "name": "stdout",
     "output_type": "stream",
     "text": [
      "Found existing data file! Loading...\n",
      "Loaded 736 players\n",
      "Qualified players (15+ MPG): 473\n",
      "\n",
      "You can now skip to Cell 20 to analyze the data!\n",
      "Or continue from Cell 2 to re-scrape fresh data.\n"
     ]
    }
   ],
   "source": [
    "#1a: load existing data if available\n",
    "if os.path.exists('nba_stats_with_salary_2025.csv'):\n",
    "    print(\"Found existing data file! Loading...\")\n",
    "    df_merged = pd.read_csv('nba_stats_with_salary_2025.csv')\n",
    "    df_merged_qualified = df_merged[df_merged['MP'] >= 15].copy()\n",
    "    \n",
    "    print(f\"Loaded {len(df_merged)} players\")\n",
    "    print(f\"Qualified players (15+ MPG): {len(df_merged_qualified)}\")\n",
    "    print(\"\\nYou can now skip to Cell 20 to analyze the data!\")\n",
    "    print(\"Or continue from Cell 2 to re-scrape fresh data.\")\n",
    "else:\n",
    "    print(\"No existing data found. Run cells 2+ to scrape data.\")"
   ]
  },
  {
   "cell_type": "code",
   "execution_count": 3,
   "id": "17ca8bd7",
   "metadata": {},
   "outputs": [],
   "source": [
    "#2: set up the url \n",
    "url = 'https://www.basketball-reference.com/leagues/NBA_2025_per_game.html'\n",
    "headers = {\n",
    "    'User-Agent': 'Mozilla/5.0 (Windows NT 10.0; Win64; x64) AppleWebKit/537.36'\n",
    "}"
   ]
  },
  {
   "cell_type": "code",
   "execution_count": 4,
   "id": "de61e0f3",
   "metadata": {},
   "outputs": [
    {
     "name": "stdout",
     "output_type": "stream",
     "text": [
      "Fetching data from https://www.basketball-reference.com/leagues/NBA_2025_per_game.html...\n",
      "Status code: 200\n"
     ]
    }
   ],
   "source": [
    "#3: request the data\n",
    "print(f\"Fetching data from {url}...\")\n",
    "response = requests.get(url, headers=headers)\n",
    "print(f\"Status code: {response.status_code}\")\n"
   ]
  },
  {
   "cell_type": "code",
   "execution_count": 5,
   "id": "9306d02c",
   "metadata": {},
   "outputs": [
    {
     "name": "stdout",
     "output_type": "stream",
     "text": [
      "Table Found!\n"
     ]
    }
   ],
   "source": [
    "#4: Parse the HTML\n",
    "soup = BeautifulSoup(response.content, 'lxml')\n",
    "table = soup.find('table', {'id': 'per_game_stats'})\n",
    "print(\"Table Found!\" if table else \"Table not found\")"
   ]
  },
  {
   "cell_type": "code",
   "execution_count": 6,
   "id": "aa1c542e",
   "metadata": {},
   "outputs": [
    {
     "name": "stdout",
     "output_type": "stream",
     "text": [
      "Columns: ['Rk', 'Player', 'Age', 'Team', 'Pos', 'G', 'GS', 'MP', 'FG', 'FGA', 'FG%', '3P', '3PA', '3P%', '2P', '2PA', '2P%', 'eFG%', 'FT', 'FTA', 'FT%', 'ORB', 'DRB', 'TRB', 'AST', 'STL', 'BLK', 'TOV', 'PF', 'PTS', 'Awards']\n"
     ]
    }
   ],
   "source": [
    "#5: extract column headers\n",
    "headers_list = [ ]\n",
    "for th in table.find('thead').find_all('th'):\n",
    "    headers_list.append(th.text.strip())\n",
    "print(f\"Columns: {headers_list}\")"
   ]
  },
  {
   "cell_type": "code",
   "execution_count": 7,
   "id": "a132f200",
   "metadata": {},
   "outputs": [
    {
     "name": "stdout",
     "output_type": "stream",
     "text": [
      "Scraped 736 player records\n"
     ]
    }
   ],
   "source": [
    "#6: extract all rows \n",
    "rows = []\n",
    "for tr in table.find('tbody').find_all('tr'):\n",
    "    # Skip header rows that appear in the middle\n",
    "    if tr.find('th', {'scope': 'row'}) is None:\n",
    "        continue\n",
    "    \n",
    "    row = []\n",
    "    for td in tr.find_all(['th', 'td']):\n",
    "        row.append(td.text.strip())\n",
    "    \n",
    "    if row:\n",
    "        rows.append(row)\n",
    "\n",
    "print(f\"Scraped {len(rows)} player records\")\n"
   ]
  },
  {
   "cell_type": "code",
   "execution_count": 8,
   "id": "08481498",
   "metadata": {},
   "outputs": [
    {
     "name": "stdout",
     "output_type": "stream",
     "text": [
      "  Rk                   Player Age Team Pos   G  GS    MP    FG   FGA  ...  \\\n",
      "0  1  Shai Gilgeous-Alexander  26  OKC  PG  76  76  34.2  11.3  21.8  ...   \n",
      "1  2    Giannis Antetokounmpo  30  MIL  PF  67  67  34.2  11.8  19.7  ...   \n",
      "2  3             Nikola Jokić  29  DEN   C  70  70  36.7  11.2  19.5  ...   \n",
      "3  4              Luka Dončić  25  2TM  PG  50  50  35.4   9.2  20.5  ...   \n",
      "4  4              Luka Dončić  25  DAL  PG  22  22  35.7   9.8  21.2  ...   \n",
      "\n",
      "   ORB  DRB   TRB   AST  STL  BLK  TOV   PF   PTS  \\\n",
      "0  0.9  4.1   5.0   6.4  1.7  1.0  2.4  2.2  32.7   \n",
      "1  2.2  9.7  11.9   6.5  0.9  1.2  3.1  2.3  30.4   \n",
      "2  2.9  9.9  12.7  10.2  1.8  0.6  3.3  2.3  29.6   \n",
      "3  0.8  7.4   8.2   7.7  1.8  0.4  3.6  2.5  28.2   \n",
      "4  0.7  7.6   8.3   7.8  2.0  0.4  3.4  2.6  28.1   \n",
      "\n",
      "                         Awards  \n",
      "0  MVP-1,DPOY-10,CPOY-8,AS,NBA1  \n",
      "1          MVP-3,DPOY-8,AS,NBA1  \n",
      "2          MVP-2,CPOY-2,AS,NBA1  \n",
      "3                                \n",
      "4                                \n",
      "\n",
      "[5 rows x 31 columns]\n"
     ]
    }
   ],
   "source": [
    "#7: create data frame\n",
    "df = pd.DataFrame(rows, columns=headers_list)\n",
    "print(df.head())\n"
   ]
  },
  {
   "cell_type": "code",
   "execution_count": 9,
   "id": "b0121bf6",
   "metadata": {},
   "outputs": [
    {
     "name": "stdout",
     "output_type": "stream",
     "text": [
      "\n",
      "Data types after conversion:\n",
      "Rk         object\n",
      "Player     object\n",
      "Age        object\n",
      "Team       object\n",
      "Pos        object\n",
      "G         float64\n",
      "GS        float64\n",
      "MP        float64\n",
      "FG        float64\n",
      "FGA       float64\n",
      "FG%       float64\n",
      "3P        float64\n",
      "3PA       float64\n",
      "3P%       float64\n",
      "2P        float64\n",
      "2PA       float64\n",
      "2P%       float64\n",
      "eFG%      float64\n",
      "FT        float64\n",
      "FTA       float64\n",
      "FT%       float64\n",
      "ORB       float64\n",
      "DRB       float64\n",
      "TRB       float64\n",
      "AST       float64\n",
      "STL       float64\n",
      "BLK       float64\n",
      "TOV       float64\n",
      "PF        float64\n",
      "PTS       float64\n",
      "Awards    float64\n",
      "dtype: object\n"
     ]
    }
   ],
   "source": [
    "#8: Convert numeric columns\n",
    "numeric_cols = df.columns[5:]  # Stats start after Pos column\n",
    "for col in numeric_cols:\n",
    "    df[col] = pd.to_numeric(df[col], errors='coerce')\n",
    "\n",
    "print(\"\\nData types after conversion:\")\n",
    "print(df.dtypes)"
   ]
  },
  {
   "cell_type": "code",
   "execution_count": 10,
   "id": "81095294",
   "metadata": {},
   "outputs": [
    {
     "name": "stdout",
     "output_type": "stream",
     "text": [
      "\n",
      "Total players: 736\n",
      "\n",
      "Basic stats:\n",
      "              PTS         TRB         AST\n",
      "count  735.000000  735.000000  735.000000\n",
      "mean     8.564354    3.513469    2.060136\n",
      "std      6.443135    2.357733    1.801264\n",
      "min      0.000000    0.000000    0.000000\n",
      "25%      3.750000    1.800000    0.800000\n",
      "50%      7.100000    3.100000    1.500000\n",
      "75%     11.400000    4.550000    2.700000\n",
      "max     32.700000   13.900000   11.600000\n"
     ]
    }
   ],
   "source": [
    "# Cell 9: Explore the data\n",
    "print(f\"\\nTotal players: {len(df)}\")\n",
    "print(f\"\\nBasic stats:\\n{df[['Player', 'Team', 'PTS', 'TRB', 'AST']].describe()}\")"
   ]
  },
  {
   "cell_type": "code",
   "execution_count": 11,
   "id": "daec275a",
   "metadata": {},
   "outputs": [
    {
     "name": "stdout",
     "output_type": "stream",
     "text": [
      "\n",
      "Top 10 Scorers (PPG):\n",
      "                    Player Team   PTS   TRB   AST\n",
      "0  Shai Gilgeous-Alexander  OKC  32.7   5.0   6.4\n",
      "1    Giannis Antetokounmpo  MIL  30.4  11.9   6.5\n",
      "2             Nikola Jokić  DEN  29.6  12.7  10.2\n",
      "3              Luka Dončić  2TM  28.2   8.2   7.7\n",
      "5              Luka Dončić  LAL  28.2   8.1   7.5\n",
      "4              Luka Dončić  DAL  28.1   8.3   7.8\n",
      "6          Anthony Edwards  MIN  27.6   5.7   4.5\n",
      "7             Jayson Tatum  BOS  26.8   8.7   6.0\n",
      "8             Kevin Durant  PHO  26.6   6.0   4.2\n",
      "9             Tyrese Maxey  PHI  26.3   3.3   6.1\n"
     ]
    }
   ],
   "source": [
    "# Cell 10: Top 10 scorers\n",
    "print(\"\\nTop 10 Scorers (PPG):\")\n",
    "top_scorers = df.nlargest(10, 'PTS')[['Player', 'Team', 'PTS', 'TRB', 'AST']]\n",
    "print(top_scorers)"
   ]
  },
  {
   "cell_type": "code",
   "execution_count": 12,
   "id": "18ea9299",
   "metadata": {},
   "outputs": [],
   "source": [
    "# Cell 11: Calculate simplified PER\n",
    "def calculate_simple_per(row):\n",
    "    \"\"\"\n",
    "    Calculate a simplified Player Efficiency Rating\n",
    "    \n",
    "    Formula components:\n",
    "    - Points, Rebounds, Assists, Steals, Blocks (positive)\n",
    "    - Missed FG, Missed FT, Turnovers (negative)\n",
    "    - Adjusted per minute played\n",
    "    \"\"\"\n",
    "    try:\n",
    "        # Get stats (using .get() to handle missing values)\n",
    "        pts = row['PTS']\n",
    "        trb = row['TRB']\n",
    "        ast = row['AST']\n",
    "        stl = row['STL']\n",
    "        blk = row['BLK']\n",
    "        \n",
    "        fga = row['FGA']\n",
    "        fgm = row['FG']\n",
    "        fta = row['FTA']\n",
    "        ftm = row['FT']\n",
    "        tov = row['TOV']\n",
    "        \n",
    "        mp = row['MP']\n",
    "        \n",
    "        # Calculate missed shots\n",
    "        missed_fg = fga - fgm\n",
    "        missed_ft = fta - ftm\n",
    "        \n",
    "        # Simplified PER formula\n",
    "        per = (pts + trb + ast + stl + blk - missed_fg - missed_ft - tov) / mp if mp > 0 else 0\n",
    "        \n",
    "        # Scale it to look more like traditional PER (multiply by a factor)\n",
    "        per = per * 10\n",
    "        \n",
    "        return round(per, 2)\n",
    "    \n",
    "    except:\n",
    "        return None"
   ]
  },
  {
   "cell_type": "code",
   "execution_count": 13,
   "id": "823255c8",
   "metadata": {},
   "outputs": [
    {
     "name": "stdout",
     "output_type": "stream",
     "text": [
      "Simple PER calculated!\n",
      "\n",
      "PER Stats:\n",
      "Average PER: 4.98\n",
      "Max PER: 16.67\n",
      "Min PER: -3.00\n"
     ]
    }
   ],
   "source": [
    "# Apply the function to each row\n",
    "df['Simple_PER'] = df.apply(calculate_simple_per, axis=1)\n",
    "\n",
    "print(\"Simple PER calculated!\")\n",
    "print(f\"\\nPER Stats:\")\n",
    "print(f\"Average PER: {df['Simple_PER'].mean():.2f}\")\n",
    "print(f\"Max PER: {df['Simple_PER'].max():.2f}\")\n",
    "print(f\"Min PER: {df['Simple_PER'].min():.2f}\")"
   ]
  },
  {
   "cell_type": "code",
   "execution_count": 14,
   "id": "8a9b42a9",
   "metadata": {},
   "outputs": [
    {
     "name": "stdout",
     "output_type": "stream",
     "text": [
      "Simple PER calculated!\n",
      "\n",
      "All players - PER Stats:\n",
      "Average PER: 4.98\n",
      "\n",
      "Qualified players (15+ MPG) - PER Stats:\n",
      "Average PER: 5.32\n",
      "Total qualified players: 473\n"
     ]
    }
   ],
   "source": [
    "# Filter for players with meaningful minutes (at least 15 MPG)\n",
    "df_qualified = df[df['MP'] >= 15].copy()\n",
    "\n",
    "print(\"Simple PER calculated!\")\n",
    "print(f\"\\nAll players - PER Stats:\")\n",
    "print(f\"Average PER: {df['Simple_PER'].mean():.2f}\")\n",
    "print(f\"\\nQualified players (15+ MPG) - PER Stats:\")\n",
    "print(f\"Average PER: {df_qualified['Simple_PER'].mean():.2f}\")\n",
    "print(f\"Total qualified players: {len(df_qualified)}\")"
   ]
  },
  {
   "cell_type": "code",
   "execution_count": 15,
   "id": "72dc5eea",
   "metadata": {},
   "outputs": [
    {
     "name": "stdout",
     "output_type": "stream",
     "text": [
      "\n",
      "Top 10 Players by Simple PER (min 15 MPG):\n",
      "                      Player Team    MP   PTS   TRB   AST  Simple_PER\n",
      "2               Nikola Jokić  DEN  36.7  29.6  12.7  10.2       11.47\n",
      "1      Giannis Antetokounmpo  MIL  34.2  30.4  11.9   6.5       10.47\n",
      "448              Moses Brown  DAL  18.3  11.8   7.8   0.5       10.05\n",
      "0    Shai Gilgeous-Alexander  OKC  34.2  32.7   5.0   6.4        9.65\n",
      "17             Anthony Davis  LAL  34.3  25.7  11.9   3.4        9.36\n",
      "16             Anthony Davis  2TM  33.5  24.7  11.6   3.5        9.19\n",
      "20           Zion Williamson  NOP  28.6  24.6   7.2   5.3        9.16\n",
      "24         Victor Wembanyama  SAS  33.2  24.3  11.0   3.7        9.13\n",
      "62          Domantas Sabonis  SAC  34.7  19.1  13.9   6.0        8.90\n",
      "106            Mark Williams  CHO  26.6  15.3  10.2   2.5        8.83\n"
     ]
    }
   ],
   "source": [
    "# Cell 12: Top 10 by PER (qualified players only)\n",
    "print(\"\\nTop 10 Players by Simple PER (min 15 MPG):\")\n",
    "top_per = df_qualified.nlargest(10, 'Simple_PER')[['Player', 'Team', 'MP', 'PTS', 'TRB', 'AST', 'Simple_PER']]\n",
    "print(top_per)"
   ]
  },
  {
   "cell_type": "code",
   "execution_count": 16,
   "id": "6642cc3c",
   "metadata": {},
   "outputs": [
    {
     "name": "stdout",
     "output_type": "stream",
     "text": [
      "\n",
      "Data with Simple PER saved to nba_player_stats_2025.csv\n"
     ]
    }
   ],
   "source": [
    "# Cell 13: Save to CSV with PER\n",
    "df.to_csv('nba_player_stats_2025.csv', index=False)\n",
    "print(\"\\nData with Simple PER saved to nba_player_stats_2025.csv\")"
   ]
  },
  {
   "cell_type": "code",
   "execution_count": 17,
   "id": "418b8a62",
   "metadata": {},
   "outputs": [
    {
     "name": "stdout",
     "output_type": "stream",
     "text": [
      "Fetching salary data from https://www.basketball-reference.com/contracts/players.html...\n",
      "Status code: 200\n"
     ]
    }
   ],
   "source": [
    "# scrape player salaries for upcoming season\n",
    "# Cell 14: Scrape player salaries\n",
    "salary_url = 'https://www.basketball-reference.com/contracts/players.html'\n",
    "\n",
    "print(f\"Fetching salary data from {salary_url}...\")\n",
    "salary_response = requests.get(salary_url, headers=headers)\n",
    "print(f\"Status code: {salary_response.status_code}\")"
   ]
  },
  {
   "cell_type": "code",
   "execution_count": 18,
   "id": "b61370e6",
   "metadata": {},
   "outputs": [
    {
     "name": "stdout",
     "output_type": "stream",
     "text": [
      "Salary table found!\n"
     ]
    }
   ],
   "source": [
    "# Cell 15: Parse salary table\n",
    "salary_soup = BeautifulSoup(salary_response.content, 'lxml')\n",
    "salary_table = salary_soup.find('table', {'id': 'player-contracts'})\n",
    "print(\"Salary table found!\" if salary_table else \"Salary table not found\")"
   ]
  },
  {
   "cell_type": "code",
   "execution_count": 19,
   "id": "88ecbb17",
   "metadata": {},
   "outputs": [
    {
     "name": "stdout",
     "output_type": "stream",
     "text": [
      "Scraped 371 salary records with 10 columns\n",
      "Sample first row: ['1', 'Stephen Curry', 'GSW', '$59,606,817', '$62,587,158', '', '', '', '', '$122,193,975']\n"
     ]
    }
   ],
   "source": [
    "# Cell 16: Extract salary data with correct column names\n",
    "correct_headers = ['Rk', 'Player', 'Tm', '2025-26', '2026-27', '2027-28', '2028-29', '2029-30', '2030-31', 'Guaranteed']\n",
    "\n",
    "salary_rows = []\n",
    "for tr in salary_table.find('tbody').find_all('tr'):\n",
    "    row = []\n",
    "    \n",
    "    # Get all cells in the row\n",
    "    cells = tr.find_all(['th', 'td'])\n",
    "    \n",
    "    for cell in cells:\n",
    "        row.append(cell.text.strip())\n",
    "    \n",
    "    # Only keep rows that have 10 columns (matching our headers)\n",
    "    if len(row) == 10:\n",
    "        salary_rows.append(row)\n",
    "\n",
    "print(f\"Scraped {len(salary_rows)} salary records with 10 columns\")\n",
    "if salary_rows:\n",
    "    print(f\"Sample first row: {salary_rows[0]}\")\n",
    "\n"
   ]
  },
  {
   "cell_type": "code",
   "execution_count": 20,
   "id": "76ed1939",
   "metadata": {},
   "outputs": [
    {
     "name": "stdout",
     "output_type": "stream",
     "text": [
      "\n",
      "Salary columns: ['Rk', 'Player', 'Tm', '2025-26', '2026-27', '2027-28', '2028-29', '2029-30', '2030-31', 'Guaranteed']\n",
      "Shape: (371, 10)\n",
      "                  Player   Tm      2025-26\n",
      "0          Stephen Curry  GSW  $59,606,817\n",
      "1            Joel Embiid  PHI  $55,224,526\n",
      "2           Nikola Jokić  DEN  $55,224,526\n",
      "3           Kevin Durant  HOU  $54,708,609\n",
      "4           Jayson Tatum  BOS  $54,126,450\n",
      "5  Giannis Antetokounmpo  MIL  $54,126,450\n",
      "6          Anthony Davis  DAL  $54,126,450\n",
      "7           Jimmy Butler  GSW  $54,126,450\n",
      "8         Damian Lillard  MIL  $54,126,450\n",
      "9           Bradley Beal  PHO  $53,666,270\n"
     ]
    }
   ],
   "source": [
    "# Cell 17: Create salary DataFrame with correct columns\n",
    "df_salary = pd.DataFrame(salary_rows, columns=correct_headers)\n",
    "print(f\"\\nSalary columns: {df_salary.columns.tolist()}\")\n",
    "print(f\"Shape: {df_salary.shape}\")\n",
    "print(df_salary[['Player', 'Tm', '2025-26']].head(10))"
   ]
  },
  {
   "cell_type": "code",
   "execution_count": 21,
   "id": "ec0465f0",
   "metadata": {},
   "outputs": [
    {
     "name": "stdout",
     "output_type": "stream",
     "text": [
      "Salary data cleaned. Sample:\n",
      "                   Player  Salary_2025_26\n",
      "0           Stephen Curry      59606817.0\n",
      "1             Joel Embiid      55224526.0\n",
      "2            Nikola Jokić      55224526.0\n",
      "3            Kevin Durant      54708609.0\n",
      "4            Jayson Tatum      54126450.0\n",
      "5   Giannis Antetokounmpo      54126450.0\n",
      "6           Anthony Davis      54126450.0\n",
      "7            Jimmy Butler      54126450.0\n",
      "8          Damian Lillard      54126450.0\n",
      "9            Bradley Beal      53666270.0\n",
      "10           Jaylen Brown      53142264.0\n",
      "11           Devin Booker      53142264.0\n",
      "12     Karl-Anthony Towns      53142264.0\n",
      "13           LeBron James      52627153.0\n",
      "14            Paul George      51666090.0\n",
      "\n",
      "Total players with salary: 371\n"
     ]
    }
   ],
   "source": [
    "# Cell 18: Clean salary data - just grab Player and 2025-26\n",
    "df_salary_clean = df_salary[['Player', '2025-26']].copy()\n",
    "\n",
    "# Clean the salary column\n",
    "df_salary_clean['Salary_2025_26'] = df_salary_clean['2025-26'].str.replace('$', '').str.replace(',', '')\n",
    "df_salary_clean['Salary_2025_26'] = pd.to_numeric(df_salary_clean['Salary_2025_26'], errors='coerce')\n",
    "\n",
    "# Drop the raw column\n",
    "df_salary_clean = df_salary_clean[['Player', 'Salary_2025_26']].copy()\n",
    "\n",
    "print(f\"Salary data cleaned. Sample:\")\n",
    "print(df_salary_clean.head(15))\n",
    "print(f\"\\nTotal players with salary: {len(df_salary_clean)}\")"
   ]
  },
  {
   "cell_type": "code",
   "execution_count": 22,
   "id": "5eb0c1fd",
   "metadata": {},
   "outputs": [
    {
     "name": "stdout",
     "output_type": "stream",
     "text": [
      "\n",
      "Merge complete!\n",
      "Total stat rows (including multi-team players): 736\n",
      "Unique players: 570\n",
      "Total rows with salary data: 368\n",
      "Unique players with salary: 316\n",
      "\n",
      "Qualified players (15+ MPG):\n",
      "Total qualified rows: 473\n",
      "Qualified rows with salary: 307\n",
      "\n",
      "Top 10 qualified players missing salary data:\n",
      "               Player Team    MP   PTS\n",
      "19       Kyrie Irving  DAL  36.1  24.7\n",
      "28         Cam Thomas  BRK  31.2  24.0\n",
      "38       James Harden  LAC  35.3  22.8\n",
      "117    Quentin Grimes  PHI  33.7  21.9\n",
      "68      Julius Randle  MIN  32.3  18.7\n",
      "140   Dennis Schröder  BRK  33.6  18.4\n",
      "696      Jacob Toppin  ATL  27.0  17.0\n",
      "96      Malik Beasley  DET  27.8  16.3\n",
      "102      Myles Turner  IND  30.2  15.6\n",
      "104  Jonathan Kuminga  GSW  24.3  15.3\n"
     ]
    }
   ],
   "source": [
    "# Cell 19: Merge salary with stats (handling multiple team entries)\n",
    "\n",
    "# For players with multiple team entries, we want to merge salary to ALL their rows\n",
    "# The salary data has each player once, stats may have them multiple times\n",
    "\n",
    "df_merged = df.merge(df_salary_clean, on='Player', how='left')\n",
    "\n",
    "print(f\"\\nMerge complete!\")\n",
    "print(f\"Total stat rows (including multi-team players): {len(df_merged)}\")\n",
    "print(f\"Unique players: {df_merged['Player'].nunique()}\")\n",
    "print(f\"Total rows with salary data: {df_merged['Salary_2025_26'].notna().sum()}\")\n",
    "print(f\"Unique players with salary: {df_merged[df_merged['Salary_2025_26'].notna()]['Player'].nunique()}\")\n",
    "\n",
    "# Create qualified dataset - use TOT (total) rows for multi-team players when available\n",
    "# If no TOT row, use their individual team rows\n",
    "df_merged_qualified = df_merged[df_merged['MP'] >= 15].copy()\n",
    "\n",
    "print(f\"\\nQualified players (15+ MPG):\")\n",
    "print(f\"Total qualified rows: {len(df_merged_qualified)}\")\n",
    "print(f\"Qualified rows with salary: {df_merged_qualified['Salary_2025_26'].notna().sum()}\")\n",
    "\n",
    "# Show examples of players without salary\n",
    "missing_salary = df_merged_qualified[df_merged_qualified['Salary_2025_26'].isna()].sort_values('PTS', ascending=False)\n",
    "print(f\"\\nTop 10 qualified players missing salary data:\")\n",
    "print(missing_salary[['Player', 'Team', 'MP', 'PTS']].head(10))"
   ]
  },
  {
   "cell_type": "code",
   "execution_count": 23,
   "id": "6558c932",
   "metadata": {},
   "outputs": [
    {
     "name": "stdout",
     "output_type": "stream",
     "text": [
      "\n",
      "Unique qualified players for ranking: 387\n",
      "\n",
      "Top 10 Players by Simple PER with Salary (min 15 MPG):\n",
      "                      Player Team    MP   PTS  Simple_PER  Salary_2025_26\n",
      "2               Nikola Jokić  DEN  36.7  29.6       11.47      55224526.0\n",
      "1      Giannis Antetokounmpo  MIL  34.2  30.4       10.47      54126450.0\n",
      "448              Moses Brown  DAL  18.3  11.8       10.05             NaN\n",
      "0    Shai Gilgeous-Alexander  OKC  34.2  32.7        9.65      38333050.0\n",
      "20           Zion Williamson  NOP  28.6  24.6        9.16      39446090.0\n",
      "24         Victor Wembanyama  SAS  33.2  24.3        9.13      13376880.0\n",
      "62          Domantas Sabonis  SAC  34.7  19.1        8.90      43636000.0\n",
      "106            Mark Williams  CHO  26.6  15.3        8.83       6276531.0\n",
      "23        Karl-Anthony Towns  NYK  35.0  24.4        8.66      53142264.0\n",
      "203        Jonas Valančiūnas  SAC  16.9   8.7        8.64      10395000.0\n"
     ]
    }
   ],
   "source": [
    "# Cell 20: Top 10 players by PER with salary\n",
    "# For players on multiple teams, prefer their TOT (total) row\n",
    "df_for_ranking = df_merged_qualified.copy()\n",
    "\n",
    "# Create a preference: TOT rows first, then single team rows\n",
    "df_for_ranking['is_tot'] = df_for_ranking['Team'] == 'TOT'\n",
    "\n",
    "# Remove duplicate players, keeping TOT if available\n",
    "df_for_ranking = df_for_ranking.sort_values('is_tot', ascending=False).drop_duplicates(subset='Player', keep='first')\n",
    "\n",
    "print(f\"\\nUnique qualified players for ranking: {len(df_for_ranking)}\")\n",
    "print(\"\\nTop 10 Players by Simple PER with Salary (min 15 MPG):\")\n",
    "top_per_salary = df_for_ranking.nlargest(10, 'Simple_PER')[['Player', 'Team', 'MP', 'PTS', 'Simple_PER', 'Salary_2025_26']]\n",
    "print(top_per_salary)"
   ]
  },
  {
   "cell_type": "code",
   "execution_count": 24,
   "id": "dd9af085",
   "metadata": {},
   "outputs": [
    {
     "name": "stdout",
     "output_type": "stream",
     "text": [
      "\n",
      "Top 10 Best Value Players (PER per $1M, min $5M salary):\n",
      "               Player Team  Simple_PER  Salary_2025_26  Value\n",
      "146     Moritz Wagner  ORL        7.50       5000000.0   1.50\n",
      "294  Dereck Lively II  DAL        7.53       5253360.0   1.43\n",
      "106     Mark Williams  CHO        8.83       6276531.0   1.41\n",
      "252     Nick Richards  PHO        6.83       5000000.0   1.37\n",
      "344    Andre Drummond  PHI        6.49       5000000.0   1.30\n",
      "175       Jalen Duren  DET        8.31       6483144.0   1.28\n",
      "254         Zach Edey  MEM        7.30       6045000.0   1.21\n",
      "168        Tari Eason  HOU        6.43       5675766.0   1.13\n",
      "44     Jalen Williams  OKC        6.94       6580997.0   1.05\n",
      "399   Donovan Clingan  POR        6.82       7178400.0   0.95\n",
      "\n",
      "\n",
      "Top 10 Players by Simple PER (min 15 MPG):\n",
      "                      Player Team    MP   PTS   TRB   AST  Simple_PER  \\\n",
      "2               Nikola Jokić  DEN  36.7  29.6  12.7  10.2       11.47   \n",
      "1      Giannis Antetokounmpo  MIL  34.2  30.4  11.9   6.5       10.47   \n",
      "448              Moses Brown  DAL  18.3  11.8   7.8   0.5       10.05   \n",
      "0    Shai Gilgeous-Alexander  OKC  34.2  32.7   5.0   6.4        9.65   \n",
      "20           Zion Williamson  NOP  28.6  24.6   7.2   5.3        9.16   \n",
      "24         Victor Wembanyama  SAS  33.2  24.3  11.0   3.7        9.13   \n",
      "62          Domantas Sabonis  SAC  34.7  19.1  13.9   6.0        8.90   \n",
      "106            Mark Williams  CHO  26.6  15.3  10.2   2.5        8.83   \n",
      "23        Karl-Anthony Towns  NYK  35.0  24.4  12.8   3.1        8.66   \n",
      "203        Jonas Valančiūnas  SAC  16.9   8.7   7.0   1.8        8.64   \n",
      "\n",
      "     Salary_2025_26  \n",
      "2        55224526.0  \n",
      "1        54126450.0  \n",
      "448             NaN  \n",
      "0        38333050.0  \n",
      "20       39446090.0  \n",
      "24       13376880.0  \n",
      "62       43636000.0  \n",
      "106       6276531.0  \n",
      "23       53142264.0  \n",
      "203      10395000.0  \n",
      "\n",
      "\n",
      "Most Overpaid (min $20M salary, sorted by worst PER):\n",
      "                       Player Team  Simple_PER  Salary_2025_26  Value\n",
      "289  Kentavious Caldwell-Pope  ORL        3.21      21621500.0   0.15\n",
      "122              Jerami Grant  POR        3.83      32000001.0   0.12\n",
      "129             Dillon Brooks  HOU        3.87      21124110.0   0.18\n",
      "199              Terry Rozier  MIA        3.94      26643031.0   0.15\n",
      "111                Kyle Kuzma  MIL        4.21      22410605.0   0.19\n",
      "266              Marcus Smart  MEM        4.31      21586855.0   0.20\n",
      "80              Mikal Bridges  NYK        4.57      24900000.0   0.18\n",
      "183              Jrue Holiday  BOS        4.71      32400000.0   0.15\n",
      "162           Jaden McDaniels  MIN        4.80      24858622.0   0.19\n",
      "79                 OG Anunoby  NYK        4.95      39568966.0   0.13\n"
     ]
    }
   ],
   "source": [
    "# Cell 21: Calculate value with better filters\n",
    "df_for_ranking['Value'] = df_for_ranking['Simple_PER'] / (df_for_ranking['Salary_2025_26'] / 1_000_000)\n",
    "df_for_ranking['Value'] = df_for_ranking['Value'].round(2)\n",
    "\n",
    "# Filter for players making at least $5M\n",
    "high_earners = df_for_ranking[df_for_ranking['Salary_2025_26'] >= 5_000_000].copy()\n",
    "\n",
    "print(\"\\nTop 10 Best Value Players (PER per $1M, min $5M salary):\")\n",
    "top_value = high_earners.nlargest(10, 'Value')[['Player', 'Team', 'Simple_PER', 'Salary_2025_26', 'Value']]\n",
    "print(top_value)\n",
    "\n",
    "print(\"\\n\\nTop 10 Players by Simple PER (min 15 MPG):\")\n",
    "top_performers = df_for_ranking.nlargest(10, 'Simple_PER')[['Player', 'Team', 'MP', 'PTS', 'TRB', 'AST', 'Simple_PER', 'Salary_2025_26']]\n",
    "print(top_performers)\n",
    "\n",
    "print(\"\\n\\nMost Overpaid (min $20M salary, sorted by worst PER):\")\n",
    "overpaid = df_for_ranking[df_for_ranking['Salary_2025_26'] >= 20_000_000].nsmallest(10, 'Simple_PER')[['Player', 'Team', 'Simple_PER', 'Salary_2025_26', 'Value']]\n",
    "print(overpaid)"
   ]
  },
  {
   "cell_type": "code",
   "execution_count": 25,
   "id": "e13f3c8a",
   "metadata": {},
   "outputs": [
    {
     "name": "stdout",
     "output_type": "stream",
     "text": [
      "\n",
      "Full data with salary saved to nba_stats_with_salary_2025.csv\n"
     ]
    }
   ],
   "source": [
    "# Cell 22: Save merged data\n",
    "df_merged.to_csv('nba_stats_with_salary_2025.csv', index=False)\n",
    "print(\"\\nFull data with salary saved to nba_stats_with_salary_2025.csv\")"
   ]
  },
  {
   "cell_type": "code",
   "execution_count": null,
   "id": "460a807a",
   "metadata": {},
   "outputs": [],
   "source": []
  }
 ],
 "metadata": {
  "kernelspec": {
   "display_name": "nba",
   "language": "python",
   "name": "python3"
  },
  "language_info": {
   "codemirror_mode": {
    "name": "ipython",
    "version": 3
   },
   "file_extension": ".py",
   "mimetype": "text/x-python",
   "name": "python",
   "nbconvert_exporter": "python",
   "pygments_lexer": "ipython3",
   "version": "3.13.7"
  }
 },
 "nbformat": 4,
 "nbformat_minor": 5
}
