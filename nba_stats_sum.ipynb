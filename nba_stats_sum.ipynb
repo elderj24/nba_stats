{
 "cells": [
  {
   "cell_type": "markdown",
   "id": "28c77f2c-a99c-4022-81ad-21c833729e40",
   "metadata": {},
   "source": [
    "NBA Analysis\n",
    "Analyzes advanced statistics, creates a regression model to predict salary, and offers preliminary assessment of under-and-over-valued players based on actual salaries relative to the predicted salaries "
   ]
  },
  {
   "cell_type": "code",
   "execution_count": 1,
   "id": "37716df2-e579-4b98-aca1-2b9ceb11e344",
   "metadata": {},
   "outputs": [],
   "source": [
    "# Import libraries\n",
    "import pandas as pd\n",
    "import matplotlib.pyplot as plt\n",
    "import seaborn as sns\n",
    "from sklearn.linear_model import LinearRegression\n",
    "from sklearn.model_selection import train_test_split\n",
    "from sklearn.metrics import r2_score, mean_absolute_error"
   ]
  },
  {
   "cell_type": "code",
   "execution_count": 2,
   "id": "56dea0e0-5567-4e12-be2b-001ff07ac815",
   "metadata": {},
   "outputs": [],
   "source": [
    "# load csv files\n",
    "# Note: Full script (available in Github repo) scrapes (i) advanced stats and (ii) salary data from Basketballreference.com \n",
    "# and puts them into two separate csv files.\n",
    "# This summary analysis uploads the two csv files as the starting point\n",
    "df_stats = pd.read_csv('nba_advanced_stats_2025.csv')\n",
    "df_salary = pd.read_csv('nba_player_salaries_2025.csv')"
   ]
  },
  {
   "cell_type": "code",
   "execution_count": 3,
   "id": "2040080d-d300-42bb-9d1f-69d23e381744",
   "metadata": {},
   "outputs": [
    {
     "name": "stdout",
     "output_type": "stream",
     "text": [
      "Index(['Rk', 'Player', 'Age', 'Team', 'Pos', 'G', 'GS', 'MP', 'PER', 'TS%',\n",
      "       '3PAr', 'FTr', 'ORB%', 'DRB%', 'TRB%', 'AST%', 'STL%', 'BLK%', 'TOV%',\n",
      "       'USG%', 'OWS', 'DWS', 'WS', 'WS/48', 'OBPM', 'DBPM', 'BPM', 'VORP',\n",
      "       'Awards'],\n",
      "      dtype='object')\n",
      "(736, 29)\n",
      "        Rk            Player   Age Team Pos     G   GS     MP   PER    TS%  \\\n",
      "478  378.0  Brandon Williams  25.0  DAL  PG  33.0  3.0  487.0  18.3  0.634   \n",
      "\n",
      "     ...  USG%  OWS  DWS   WS  WS/48  OBPM  DBPM  BPM  VORP  Awards  \n",
      "478  ...  22.6  0.9  0.4  1.3  0.129   1.0  -0.1  1.0   0.4     NaN  \n",
      "\n",
      "[1 rows x 29 columns]\n",
      "Index(['Player', 'Salary_2025_26'], dtype='object')\n",
      "(470, 2)\n",
      "             Player  Salary_2025_26\n",
      "466  Mamadi Diakite        464050.0\n"
     ]
    }
   ],
   "source": [
    "# Explore data\n",
    "print(df_stats.columns)\n",
    "print(df_stats.shape)\n",
    "print(df_stats.sample(1))\n",
    "print(df_salary.columns)\n",
    "print(df_salary.shape)\n",
    "print(df_salary.sample(1))"
   ]
  },
  {
   "cell_type": "code",
   "execution_count": null,
   "id": "aa859bc8",
   "metadata": {},
   "outputs": [
    {
     "name": "stdout",
     "output_type": "stream",
     "text": [
      "Player             0\n",
      "Salary_2025_26    22\n",
      "dtype: int64\n",
      "Player            0\n",
      "Salary_2025_26    0\n",
      "dtype: int64\n",
      "Total players with salary: 448\n",
      "Duplicate players in salary data: 9\n"
     ]
    }
   ],
   "source": [
    "# Clean the salary data sets \n",
    "\n",
    "# check for missing values\n",
    "print(df_salary.isnull().sum())\n",
    "\n",
    "# clean up salary data\n",
    "df_salary_clean = df_salary.dropna(subset=['Salary_2025_26'])\n",
    "print(df_salary_clean.isnull().sum())\n",
    "print(f\"Total players with salary: {len(df_salary_clean)}\")\n",
    "\n",
    "# check for duplicates in Player names in both datasets\n",
    "print(f\"Duplicate players in salary data: {df_salary_clean['Player'].duplicated().sum()}\")\n",
    "\n",
    "# remove duplicates by taking the first entry\n",
    "\n"
   ]
  },
  {
   "cell_type": "code",
   "execution_count": null,
   "id": "c34fb2d2",
   "metadata": {},
   "outputs": [
    {
     "name": "stdout",
     "output_type": "stream",
     "text": [
      "Player\n",
      "Dennis Schröder     4\n",
      "Colin Castleton     4\n",
      "David Roddy         4\n",
      "MarJon Beauchamp    4\n",
      "Cody Martin         3\n",
      "                   ..\n",
      "James Wiseman       1\n",
      "Alondes Williams    1\n",
      "Zyon Pullin         1\n",
      "Jahlil Okafor       1\n",
      "Jayson Tatum        1\n",
      "Name: count, Length: 570, dtype: int64\n",
      "Index(['Dennis Schröder', 'Colin Castleton', 'David Roddy', 'MarJon Beauchamp',\n",
      "       'Cody Martin', 'Kyle Kuzma', 'Zach Collins', 'Jake LaRavia',\n",
      "       'Jonas Valančiūnas', 'Bogdan Bogdanović', 'Luka Dončić', 'Terance Mann',\n",
      "       'Javonte Green', 'Nick Richards', 'Jusuf Nurkić', 'Caris LeVert',\n",
      "       'Jimmy Butler', 'Kevin Porter Jr.', 'D'Angelo Russell', 'De'Aaron Fox',\n",
      "       'De'Andre Hunter', 'Caleb Martin', 'Kyle Anderson', 'Ben Simmons',\n",
      "       'Davion Mitchell', 'Andrew Wiggins', 'Quentin Grimes', 'Anthony Davis',\n",
      "       'KJ Martin', 'Georges Niang', 'Thomas Bryant', 'Bruce Brown',\n",
      "       'Kevin Huerter', 'Dorian Finney-Smith', 'Tre Jones', 'Kelly Olynyk',\n",
      "       'Khris Middleton', 'Shake Milton', 'Vasilije Micić', 'Lindy Waters III',\n",
      "       'Orlando Robinson', 'Drew Eubanks', 'Marcus Smart', 'AJ Johnson',\n",
      "       'Delon Wright', 'Jericho Sims', 'Josh Okogie', 'Colby Jones',\n",
      "       'Elfrid Payton', 'Wendell Moore Jr.', 'Reece Beekman', 'Kai Jones',\n",
      "       'Max Christie', 'Mo Bamba', 'Jared Butler', 'Trey Jemison', 'Alex Len',\n",
      "       'Jaden Springer', 'Maxwell Lewis', 'Patty Mills', 'Jalen Hood-Schifino',\n",
      "       'Torrey Craig', 'Jordan McLaughlin', 'Marvin Bagley III', 'JT Thor',\n",
      "       'Jaylen Martin', 'Bones Hyland', 'Jared Rhoden', 'Alex Reese',\n",
      "       'Chuma Okeke', 'Lester Quiñones', 'Cole Swider', 'Markieff Morris',\n",
      "       'Zach LaVine', 'Pete Nance', 'Kylor Kelley', 'Moses Brown',\n",
      "       'Sidy Cissoko', 'Patrick Baldwin Jr.', 'Jacob Toppin',\n",
      "       'Tristen Newton'],\n",
      "      dtype='object', name='Player')\n"
     ]
    },
    {
     "name": "stderr",
     "output_type": "stream",
     "text": [
      "C:\\Users\\elder\\AppData\\Local\\Temp\\ipykernel_14968\\191211539.py:18: FutureWarning: DataFrameGroupBy.apply operated on the grouping columns. This behavior is deprecated, and in a future version of pandas the grouping columns will be excluded from the operation. Either pass `include_groups=False` to exclude the groupings or explicitly select the grouping columns after groupby to silence this warning.\n",
      "  df_stats_cleaned = df_stats.groupby('Player', group_keys=False).apply(keep_combined_stats)\n"
     ]
    }
   ],
   "source": [
    "# clean the stats data set\n",
    "\n",
    "# check for duplicates in Player names\n",
    "print(f\"Duplicate players in stats data: {df_stats['Player'].duplicated().sum()}\")\n",
    "\n",
    "# identify players who appear multiple times\n",
    "player_counts = df_stats['Player'].value_counts()\n",
    "print(player_counts)\n",
    "duplicated_players = player_counts[player_counts > 1].index\n",
    "print(duplicated_players)\n",
    "\n",
    "# if players have multile entries, keep the instance with 2TM or 3TM, otherwise keep the first occurrence\n",
    "def keep_combined_stats(group):\n",
    "    # check if there's a 2TM or 3TM entry\n",
    "    combined_entry = group[group['Team'].isin(['2TM', '3TM'])]\n",
    "    if len(combined_entry) > 0:\n",
    "        return combined_entry\n",
    "    else:\n",
    "        # if no combined entry, return the original entry \n",
    "        return group \n",
    "    \n",
    "# apply the function to each group of duplicated players\n",
    "df_stats_cleaned = df_stats.groupby('Player', group_keys=False).apply(keep_combined_stats)\n",
    "\n",
    "# reset index after groupby operation\n",
    "df_stats_cleaned = df_stats_cleaned.reset_index(drop=True)"
   ]
  },
  {
   "cell_type": "code",
   "execution_count": 13,
   "id": "7b192eef",
   "metadata": {},
   "outputs": [
    {
     "name": "stdout",
     "output_type": "stream",
     "text": [
      "Duplicate players in cleaned stats data: 0\n"
     ]
    }
   ],
   "source": [
    "# check for duplicated players again\n",
    "print(f\"Duplicate players in cleaned stats data: {df_stats_cleaned['Player'].duplicated().sum()}\")\n"
   ]
  },
  {
   "cell_type": "code",
   "execution_count": 14,
   "id": "df2c38f6",
   "metadata": {},
   "outputs": [
    {
     "name": "stdout",
     "output_type": "stream",
     "text": [
      "Merged dataset shape: (408, 30)\n"
     ]
    }
   ],
   "source": [
    "# Merge datasets on Player name\n",
    "df_merged = pd.merge(df_stats_cleaned, df_salary_clean[['Player', 'Salary_2025_26']], on='Player', how='inner')\n",
    "print(f\"Merged dataset shape: {df_merged.shape}\")"
   ]
  },
  {
   "cell_type": "code",
   "execution_count": null,
   "id": "67199090",
   "metadata": {},
   "outputs": [],
   "source": [
    "# scatter plot of salary vs. different features "
   ]
  },
  {
   "cell_type": "code",
   "execution_count": null,
   "id": "016ba3f0",
   "metadata": {},
   "outputs": [],
   "source": [
    "# correlation matrix "
   ]
  },
  {
   "cell_type": "code",
   "execution_count": null,
   "id": "d7cde606",
   "metadata": {},
   "outputs": [],
   "source": [
    "# create a simple regression of salary vs. PER"
   ]
  },
  {
   "cell_type": "code",
   "execution_count": null,
   "id": "a5d6b75a",
   "metadata": {},
   "outputs": [],
   "source": [
    "# create a multi-linear regression of salary vs. multiple variables"
   ]
  },
  {
   "cell_type": "code",
   "execution_count": null,
   "id": "0d85f1b4",
   "metadata": {},
   "outputs": [],
   "source": [
    "# identify most overrated and underrated players based on the regression "
   ]
  }
 ],
 "metadata": {
  "kernelspec": {
   "display_name": "nba",
   "language": "python",
   "name": "python3"
  },
  "language_info": {
   "codemirror_mode": {
    "name": "ipython",
    "version": 3
   },
   "file_extension": ".py",
   "mimetype": "text/x-python",
   "name": "python",
   "nbconvert_exporter": "python",
   "pygments_lexer": "ipython3",
   "version": "3.13.7"
  }
 },
 "nbformat": 4,
 "nbformat_minor": 5
}
